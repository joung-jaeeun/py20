{
  "nbformat": 4,
  "nbformat_minor": 0,
  "metadata": {
    "colab": {
      "name": "mid_exam_py20",
      "provenance": [],
      "collapsed_sections": [],
      "authorship_tag": "ABX9TyPZDYYDzwy71I2sdRotwJdC",
      "include_colab_link": true
    },
    "kernelspec": {
      "name": "python3",
      "display_name": "Python 3"
    }
  },
  "cells": [
    {
      "cell_type": "markdown",
      "metadata": {
        "id": "view-in-github",
        "colab_type": "text"
      },
      "source": [
        "<a href=\"https://colab.research.google.com/github/joung-jaeeun/py20/blob/master/mid_exam_py20.ipynb\" target=\"_parent\"><img src=\"https://colab.research.google.com/assets/colab-badge.svg\" alt=\"Open In Colab\"/></a>"
      ]
    },
    {
      "cell_type": "markdown",
      "metadata": {
        "id": "vR7AFvHYFyb1",
        "colab_type": "text"
      },
      "source": [
        "##파이썬활용 중간고사 풀이\n"
      ]
    },
    {
      "cell_type": "markdown",
      "metadata": {
        "id": "UpTgaPuBF3xc",
        "colab_type": "text"
      },
      "source": [
        "## 문제1. "
      ]
    },
    {
      "cell_type": "code",
      "metadata": {
        "id": "4JJ3RjURF7AS",
        "colab_type": "code",
        "outputId": "d0e717e2-31f0-47fc-cba1-ac0de67def92",
        "colab": {
          "base_uri": "https://localhost:8080/",
          "height": 34
        }
      },
      "source": [
        "# 다음 식의 연산 결과는?\n",
        "a = 5\n",
        "b = 3\n",
        "a**b  #**표시는 a**b 처럼 사용햇을 때 a의 b 제곱값을 돌려줌 5의 3제곱 =125"
      ],
      "execution_count": 0,
      "outputs": [
        {
          "output_type": "execute_result",
          "data": {
            "text/plain": [
              "125"
            ]
          },
          "metadata": {
            "tags": []
          },
          "execution_count": 2
        }
      ]
    },
    {
      "cell_type": "code",
      "metadata": {
        "id": "hJPjk5HCF6YK",
        "colab_type": "code",
        "colab": {}
      },
      "source": [
        ""
      ],
      "execution_count": 0,
      "outputs": []
    },
    {
      "cell_type": "markdown",
      "metadata": {
        "id": "qk0AEfppH5Fd",
        "colab_type": "text"
      },
      "source": [
        "##문제2."
      ]
    },
    {
      "cell_type": "code",
      "metadata": {
        "id": "VqBM3G-vH6bm",
        "colab_type": "code",
        "outputId": "1aee02cf-f97d-466f-d902-c9020155214c",
        "colab": {
          "base_uri": "https://localhost:8080/",
          "height": 34
        }
      },
      "source": [
        "#다음 문자열 a에 대하여 슬라이싱을 한 결과는? \n",
        "a= \"Life is too short, You need Python!\"\n",
        "a[-16:-8] \n",
        " #문자열 슬라이싱은 단어를 뽑아내는 방법\n",
        "#슬라이싱 기법으로 a[시작 번호 : 끝 번호]를 지정해 그에 해당되는 문자를 뽑아줌\n",
        "#-가 붙어있으니 뒤에서부터 16~8번째까지 세면 'you need' 나온다,"
      ],
      "execution_count": 0,
      "outputs": [
        {
          "output_type": "execute_result",
          "data": {
            "text/plain": [
              "'You need'"
            ]
          },
          "metadata": {
            "tags": []
          },
          "execution_count": 3
        }
      ]
    },
    {
      "cell_type": "code",
      "metadata": {
        "id": "v2giW-agIZN6",
        "colab_type": "code",
        "colab": {}
      },
      "source": [
        ""
      ],
      "execution_count": 0,
      "outputs": []
    },
    {
      "cell_type": "markdown",
      "metadata": {
        "id": "Dgwrh4PILCz_",
        "colab_type": "text"
      },
      "source": [
        "##문제3."
      ]
    },
    {
      "cell_type": "code",
      "metadata": {
        "id": "tIHU2a62LERh",
        "colab_type": "code",
        "outputId": "bb041b0b-73f1-45a5-c54e-71784bbbb154",
        "colab": {
          "base_uri": "https://localhost:8080/",
          "height": 34
        }
      },
      "source": [
        "#다음 list a의 인덱싱 결과는?\n",
        "a = [1,2, (3,4),['a','b',['My' ,'Life', 'Good']]]\n",
        "a[3][-1][0]\n",
        "# =마지막 요소의 뒤에 리스트 중 첫번 째 인덱스 값을 구하여라.\n",
        "# 세 번째 요소인 리스트 ['a','b',['My' ,'Life', 'Good']] 에서 마지막 리스트 ['My' ,'Life', 'Good'] 의 첫 번째 인덱스 값 : 'My'"
      ],
      "execution_count": 0,
      "outputs": [
        {
          "output_type": "execute_result",
          "data": {
            "text/plain": [
              "'My'"
            ]
          },
          "metadata": {
            "tags": []
          },
          "execution_count": 9
        }
      ]
    },
    {
      "cell_type": "code",
      "metadata": {
        "id": "frDTvBFNL30Y",
        "colab_type": "code",
        "colab": {}
      },
      "source": [
        ""
      ],
      "execution_count": 0,
      "outputs": []
    },
    {
      "cell_type": "markdown",
      "metadata": {
        "id": "nz1PzJ17QASD",
        "colab_type": "text"
      },
      "source": [
        "##문제4."
      ]
    },
    {
      "cell_type": "code",
      "metadata": {
        "id": "eKYVgQDvQDOv",
        "colab_type": "code",
        "outputId": "11343db0-44d4-4d97-ab1d-420726784c9e",
        "colab": {
          "base_uri": "https://localhost:8080/",
          "height": 34
        }
      },
      "source": [
        "# 다음 tuple t1의 슬라이싱 결과는?\n",
        "t1= (0,1,\"s\", \"t\", \"u\")\n",
        "t1 [2:-2]\n",
        "#튜플은 단지 1개의 요소만을 가질 때는 요소뒤에 반드시  ( ,) 표시를 붙여햐 함.\n",
        "#앞에서 두 번째인 s부터 뒤에서 부터 2번째 앞 까지 나타내면 ('s',) 가 답이 된다."
      ],
      "execution_count": 0,
      "outputs": [
        {
          "output_type": "execute_result",
          "data": {
            "text/plain": [
              "('s',)"
            ]
          },
          "metadata": {
            "tags": []
          },
          "execution_count": 12
        }
      ]
    },
    {
      "cell_type": "code",
      "metadata": {
        "id": "ZAek3w2HQYox",
        "colab_type": "code",
        "colab": {}
      },
      "source": [
        ""
      ],
      "execution_count": 0,
      "outputs": []
    },
    {
      "cell_type": "markdown",
      "metadata": {
        "id": "L5xNs7LERg6d",
        "colab_type": "text"
      },
      "source": [
        "##문제5"
      ]
    },
    {
      "cell_type": "code",
      "metadata": {
        "id": "hvv6dLSPRjVZ",
        "colab_type": "code",
        "outputId": "95c8da65-8153-4e7a-b712-bfb7dcf7d7da",
        "colab": {
          "base_uri": "https://localhost:8080/",
          "height": 34
        }
      },
      "source": [
        "#다음 bool값 출력 중 정확한 것은?\n",
        "bool ([0,1,2]), bool([0]), bool ((0)),  bool ((0,))\n",
        "#bool 자료형 = 참과 거짓을 나타내는 자료형\n",
        "# bool ([0,1,2]), bool([0]), = 리스트 안의 값은 True\n",
        "# bool ((0)) ,bool ((0,)) = 튜플 소괄호에 0만 있으면 숫자 값이 0이기에 값 0 = False\n"
      ],
      "execution_count": 0,
      "outputs": [
        {
          "output_type": "execute_result",
          "data": {
            "text/plain": [
              "(True, True, False, True)"
            ]
          },
          "metadata": {
            "tags": []
          },
          "execution_count": 14
        }
      ]
    },
    {
      "cell_type": "code",
      "metadata": {
        "id": "TvZ19MunRoPv",
        "colab_type": "code",
        "colab": {}
      },
      "source": [
        ""
      ],
      "execution_count": 0,
      "outputs": []
    },
    {
      "cell_type": "markdown",
      "metadata": {
        "id": "YFuk7Xa8Tpne",
        "colab_type": "text"
      },
      "source": [
        "##문제6."
      ]
    },
    {
      "cell_type": "code",
      "metadata": {
        "id": "XUCOjRQLUupy",
        "colab_type": "code",
        "colab": {}
      },
      "source": [
        "#다음 조건문을 1줄 코드로 변경하시오.\n",
        "score = 80\n",
        "if score >= 60:\n",
        "  message = \"success\"\n",
        "  else:\n",
        "    message = \"failure\"\n",
        "\n",
        "    답 : message =\"success\" if score >= 60 else \"failure\" \n",
        "\n",
        "\n",
        "    #코드 해석 = 만약 점수가 60점 이상이면 \"success\" 라는 메세지를 나타내고 , 그 밖이면 \"failure\"라는 메세지를 나타내라.\n",
        "    # ' 파이썬의 조건부 표현식' (단축코드)을 이용하여 1줄 코드로 변경하면 message =\"success\" if score >= 60 else \"failure\" \n",
        "    # '파이썬 조건부 표현식' : (조건문이 참인 경우 if 조건문 else 조건문이 거짓인 경우)---->이렇게 나타냄"
      ],
      "execution_count": 0,
      "outputs": []
    },
    {
      "cell_type": "markdown",
      "metadata": {
        "id": "zrxLvpL_TNpl",
        "colab_type": "text"
      },
      "source": [
        ""
      ]
    },
    {
      "cell_type": "markdown",
      "metadata": {
        "id": "zBl8vSD8VSSU",
        "colab_type": "text"
      },
      "source": [
        "##문제7."
      ]
    },
    {
      "cell_type": "code",
      "metadata": {
        "id": "cNGMEWwKVTm4",
        "colab_type": "code",
        "outputId": "72d58c86-b330-425a-a41e-fb65f7eadb5c",
        "colab": {
          "base_uri": "https://localhost:8080/",
          "height": 34
        }
      },
      "source": [
        "#다음 코드의 실행 결과는?\n",
        "games = [\"A\", \"B\", \"C\"]\n",
        "\n",
        "for cnt in range(len(games)):\n",
        "  print(cnt, games[cnt], end=',')\n",
        "  #print문은 여러 항목들을 (,)로 구별 할 때 각 항목들 사이에 1스페이스만큼 떨어지고 줄 바꾸기 전에 end 에 문자열이 들어있으면 줄 바꾸지 x\n",
        "  # 그 end 속성에는 (,) 있으니 결과물 : 0 A,1 B,2 C,"
      ],
      "execution_count": 0,
      "outputs": [
        {
          "output_type": "stream",
          "text": [
            "0 A,1 B,2 C,"
          ],
          "name": "stdout"
        }
      ]
    },
    {
      "cell_type": "code",
      "metadata": {
        "id": "jpFUO13VWCpi",
        "colab_type": "code",
        "colab": {}
      },
      "source": [
        ""
      ],
      "execution_count": 0,
      "outputs": []
    },
    {
      "cell_type": "markdown",
      "metadata": {
        "id": "QNF8vkYXXJga",
        "colab_type": "text"
      },
      "source": [
        "##문제8."
      ]
    },
    {
      "cell_type": "code",
      "metadata": {
        "id": "llds4i1iYbp2",
        "colab_type": "code",
        "colab": {}
      },
      "source": [
        "#다음의 결과가 출력되지 않는 것은?  'I ate 10 apples. so I was sick for three days'\n",
        "# code start\n",
        "number = 10\n",
        "day = \"three\"\n",
        "\n",
        "결과값 O \n",
        "\n",
        "\"I ate {0} apples. so I was  sick for {1} days.\" .format(10, day) \n",
        "#2개 이상의 값 넣기 : 2개 이상의 값을 넣을 경우 문자열의 {0}, {1} 과 같은 인덱스 항목이 format 함수의 입력값으로 순서에 맞게 바뀜.\n",
        "#{0}자리에 숫자를 바로 대입 :10 출력 , {1}자리에 문자열 바로 대입 : three출력\n",
        "f\"I ate {number} apples. so I was sick for {three} days\"\n",
        " #{number} 자리에 숫자값을 가진 변수로 대입 : 10 출력, {three} 자리에 문자열 바로 대입 : three출력\n",
        "f\"I ate {number} apples. so I was sick for {day} days\" \n",
        "#{number} 자리에 숫자값을 가진 변수로 대입 : 10 출력, {day} 자리에 문자열 바로 대입 : three출력\n",
        "\n",
        "\n",
        "\n",
        "결과값 X\n",
        "\n",
        "\n",
        "\"I ate {0} apples. so I was sick for {1} days\".format(number=10,day)\n",
        "#number=10 ---->같은 경우는 {0}, {1}과 같이 값을 넣어 사용할 때가 아닌 이름으로 넣을 때 사용되어야 함\n",
        "#number=10 ---> number 로 바꿔줘야 함. ---->1번 방법\n",
        "#또는\n",
        "#{0}대신 {number}를, {1}대신, {day}를 넣고 뒤의 (day)대신 (day=\"three\")로 바꿔줘야 결과값 출력 가능----> 2번 방법"
      ],
      "execution_count": 0,
      "outputs": []
    },
    {
      "cell_type": "code",
      "metadata": {
        "id": "oUwCkas5dU-4",
        "colab_type": "code",
        "outputId": "6f9d147a-5783-4de3-ec01-f51f7588bd9c",
        "colab": {
          "base_uri": "https://localhost:8080/",
          "height": 34
        }
      },
      "source": [
        "#바르게 했을 경우\n",
        "# 1번 방법\n",
        "number = 10\n",
        "day = \"three\"\n",
        "\n",
        "\"I ate {0} apples. so I was sick for {1} days\".format(number,day)\n",
        "\n"
      ],
      "execution_count": 0,
      "outputs": [
        {
          "output_type": "execute_result",
          "data": {
            "text/plain": [
              "'I ate 10 apples. so I was sick for three days'"
            ]
          },
          "metadata": {
            "tags": []
          },
          "execution_count": 26
        }
      ]
    },
    {
      "cell_type": "code",
      "metadata": {
        "id": "aj3V7bO_da5O",
        "colab_type": "code",
        "outputId": "8a1f6402-211b-45a7-dfc1-636f85ca80cd",
        "colab": {
          "base_uri": "https://localhost:8080/",
          "height": 34
        }
      },
      "source": [
        "#2번 방법\n",
        "number = 10\n",
        "day = \"three\"\n",
        "\n",
        "\"I ate {number} apples. so I was sick for {day} days\".format(number=10,day= \"three\")\n",
        "\n",
        "\n"
      ],
      "execution_count": 0,
      "outputs": [
        {
          "output_type": "execute_result",
          "data": {
            "text/plain": [
              "'I ate 10 apples. so I was sick for three days'"
            ]
          },
          "metadata": {
            "tags": []
          },
          "execution_count": 30
        }
      ]
    },
    {
      "cell_type": "code",
      "metadata": {
        "id": "-wia8UcYeka1",
        "colab_type": "code",
        "colab": {}
      },
      "source": [
        ""
      ],
      "execution_count": 0,
      "outputs": []
    },
    {
      "cell_type": "markdown",
      "metadata": {
        "id": "nAnhwm1ngEUp",
        "colab_type": "text"
      },
      "source": [
        "##문제9."
      ]
    },
    {
      "cell_type": "code",
      "metadata": {
        "id": "k7QZVqLugFcL",
        "colab_type": "code",
        "colab": {}
      },
      "source": [
        "#리스트 내포를 이용해 1부터 1000이하의 자연수 중 5의 배수의 합을 구하는 한 줄 코드를 작성하라.\n",
        "\n",
        "5 + 10 +15+20.....\n",
        ".......+955 + 96- +965 + 970....\n",
        "975 + ....+ 995 + 1000 = ?\n",
        "\n",
        "\n",
        "sum([num for num in range(1,1001) if num % 5==0])\n",
        "#1부터 1000까지 중 5의 배수라면 리스트 안에 다 집어놓고 sum 을 해주면 각 리스트의 항목이 다 더해짐.\n",
        "#(1,1001)----> 1부터 1000까지\n",
        "#range = 입력 받은 숫자에 해당하는 범위값을 반복 가능한 객채로 돌려줌\n"
      ],
      "execution_count": 0,
      "outputs": []
    },
    {
      "cell_type": "markdown",
      "metadata": {
        "id": "MdMrLoTNhSIr",
        "colab_type": "text"
      },
      "source": [
        "##문제10."
      ]
    },
    {
      "cell_type": "code",
      "metadata": {
        "id": "HwwVpzY5hUL5",
        "colab_type": "code",
        "colab": {}
      },
      "source": [
        "#4개 과목의 평균 성적을 구하시오. [a],[b]에 적절한 코드는?\n",
        "subject = ['python', 'english','math','science']\n",
        "scores = [88,77,66,95]\n",
        "total = 0\n",
        "\n",
        "for subject, score in [a],________(subjects,scores):\n",
        "  total += score\n",
        "  print(subject,score)\n",
        "  print(\"평균점수 = {0}\".format([b].__________________))\n",
        "\n",
        "\n",
        "  zip, total/len(subjects)\n",
        "  #zip = 동일한 개수로 이루어진 자료형을 묶어주는 역할.\n",
        "  #과목과 점수를 묶음.\n",
        "  #len = 입력값의 길이를 돌려주는 역할.\n"
      ],
      "execution_count": 0,
      "outputs": []
    }
  ]
}