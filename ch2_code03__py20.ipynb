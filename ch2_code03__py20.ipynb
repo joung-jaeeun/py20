{
  "nbformat": 4,
  "nbformat_minor": 0,
  "metadata": {
    "colab": {
      "name": "ch2_code03__py20.ipynb",
      "provenance": [],
      "collapsed_sections": [],
      "include_colab_link": true
    },
    "kernelspec": {
      "display_name": "Python 3",
      "language": "python",
      "name": "python3"
    },
    "language_info": {
      "codemirror_mode": {
        "name": "ipython",
        "version": 3
      },
      "file_extension": ".py",
      "mimetype": "text/x-python",
      "name": "python",
      "nbconvert_exporter": "python",
      "pygments_lexer": "ipython3",
      "version": "3.7.5"
    }
  },
  "cells": [
    {
      "cell_type": "markdown",
      "metadata": {
        "id": "view-in-github",
        "colab_type": "text"
      },
      "source": [
        "<a href=\"https://colab.research.google.com/github/joung-jaeeun/py20/blob/master/ch2_code03__py20.ipynb\" target=\"_parent\"><img src=\"https://colab.research.google.com/assets/colab-badge.svg\" alt=\"Open In Colab\"/></a>"
      ]
    },
    {
      "cell_type": "markdown",
      "metadata": {
        "colab_type": "text",
        "id": "H4jNE-BMAK3f"
      },
      "source": [
        "# ch2_code03__py20.ipynb\n",
        "## py20  (change to your id)\n",
        "- Dictionary\n",
        "- Set\n",
        "- Bool\n",
        "- Variable"
      ]
    },
    {
      "cell_type": "code",
      "metadata": {
        "id": "ifoBqQ4tMw_w",
        "colab_type": "code",
        "colab": {
          "base_uri": "https://localhost:8080/",
          "height": 49
        },
        "outputId": "58311851-92d9-4461-ce54-0864346161e0"
      },
      "source": [
        "# ch2_07_dictionary.py\n",
        "\n",
        "print(\"딕셔너리: 딕셔너리(Dictionary)란?\")\n",
        "# 딕셔너리란 대응 관계를 나타내는 자료형.\n",
        "# 연관 배열(Associative array) 또는 해시(Hash)\n",
        "# 딕셔너리는 Key와 Value를 한 쌍으로 갖는 자료형\n",
        "#\n",
        "# 기본 딕셔너리의 모습\n",
        "# {Key1:Value1, Key2:Value2, Key3:Value3, ...}\n",
        "# Key와 Value의 쌍 여러 개가 { }로 둘러싸여 있다.\n",
        "# 각각의 요소는 Key : Value 형태로 이루어져 있고 쉼표(,)로 구분\n",
        "dic = {\"name\": \"pey\", \"phone\": \"0119993323\", \"birth\": \"1118\"}\n",
        "dic \n",
        "# Key는 각각 'name', 'phone', 'birth'\n",
        "# 각 Key에 해당하는 Value는 'pey', '0119993323', '1118'"
      ],
      "execution_count": 2,
      "outputs": [
        {
          "output_type": "stream",
          "text": [
            "딕셔너리: 딕셔너리(Dictionary)란?\n"
          ],
          "name": "stdout"
        },
        {
          "output_type": "execute_result",
          "data": {
            "text/plain": [
              "{'birth': '1118', 'name': 'pey', 'phone': '0119993323'}"
            ]
          },
          "metadata": {
            "tags": []
          },
          "execution_count": 2
        }
      ]
    },
    {
      "cell_type": "markdown",
      "metadata": {
        "id": "wBTpMlMnOT6M",
        "colab_type": "text"
      },
      "source": [
        "#### 여러 가지 딕셔너리"
      ]
    },
    {
      "cell_type": "code",
      "metadata": {
        "id": "YIehbb7yNveI",
        "colab_type": "code",
        "colab": {
          "base_uri": "https://localhost:8080/",
          "height": 32
        },
        "outputId": "4eaf1bf6-3430-400b-ae08-98548ed64c6d"
      },
      "source": [
        "# 여러 가지 딕셔너리\n",
        "a = {1: \"hi\"}\n",
        "a[1]"
      ],
      "execution_count": 3,
      "outputs": [
        {
          "output_type": "execute_result",
          "data": {
            "text/plain": [
              "'hi'"
            ]
          },
          "metadata": {
            "tags": []
          },
          "execution_count": 3
        }
      ]
    },
    {
      "cell_type": "code",
      "metadata": {
        "id": "vMJz2-UwOfMP",
        "colab_type": "code",
        "colab": {
          "base_uri": "https://localhost:8080/",
          "height": 32
        },
        "outputId": "434e64ee-f211-4609-dbfb-d057bd36c8f3"
      },
      "source": [
        "a = {\"a\": [1, 2, 3]}  # value에는 복합 자료형도 사용된다.\n",
        "len(a)\n",
        "# a[a]  # TypeError\n",
        "a[\"a\"]"
      ],
      "execution_count": 6,
      "outputs": [
        {
          "output_type": "execute_result",
          "data": {
            "text/plain": [
              "[1, 2, 3]"
            ]
          },
          "metadata": {
            "tags": []
          },
          "execution_count": 6
        }
      ]
    },
    {
      "cell_type": "code",
      "metadata": {
        "id": "TyN3kmZKPyNE",
        "colab_type": "code",
        "colab": {
          "base_uri": "https://localhost:8080/",
          "height": 49
        },
        "outputId": "49914847-675d-4bba-9502-9a837e8f65f0"
      },
      "source": [
        "#\n",
        "# 딕셔너리 쌍 ,요소 추가하기\n",
        "#\n",
        "a = {1: \"a\"}\n",
        "print(a)\n",
        "a[2] = \"b\"  #2 is not index !!!, 2 is a key\n",
        "a\n",
        "a[\"name\"] = \"pey\"\n",
        "a\n",
        "a[3] = [1, 2, 3]\n",
        "a "
      ],
      "execution_count": 13,
      "outputs": [
        {
          "output_type": "stream",
          "text": [
            "{1: 'a'}\n"
          ],
          "name": "stdout"
        },
        {
          "output_type": "execute_result",
          "data": {
            "text/plain": [
              "{1: 'a', 2: 'b', 3: [1, 2, 3], 'name': 'pey'}"
            ]
          },
          "metadata": {
            "tags": []
          },
          "execution_count": 13
        }
      ]
    },
    {
      "cell_type": "code",
      "metadata": {
        "id": "Qtw8DRoIQcgG",
        "colab_type": "code",
        "colab": {
          "base_uri": "https://localhost:8080/",
          "height": 32
        },
        "outputId": "ac1afb14-ab43-49ac-b092-7c1f1688fba9"
      },
      "source": [
        "#\n",
        "# 딕셔너리 쌍 삭제하기\n",
        "#\n",
        "del a[1] # 1  is key, 1 is never an index.\n",
        "a"
      ],
      "execution_count": 14,
      "outputs": [
        {
          "output_type": "execute_result",
          "data": {
            "text/plain": [
              "{2: 'b', 3: [1, 2, 3], 'name': 'pey'}"
            ]
          },
          "metadata": {
            "tags": []
          },
          "execution_count": 14
        }
      ]
    },
    {
      "cell_type": "code",
      "metadata": {
        "id": "gCdrnTA6RRyJ",
        "colab_type": "code",
        "colab": {
          "base_uri": "https://localhost:8080/",
          "height": 65
        },
        "outputId": "da695adb-8756-4001-b4ed-f0a1326497b4"
      },
      "source": [
        "#\n",
        "print(\"딕셔너리: 사용 방법\")\n",
        "d = {\"김연아\": \"피겨스케이팅\", \"류현진\": \"야구\", \"손흥민\": \"축구\", \"귀도\": \"파이썬\"}\n",
        "print(d)\n",
        "d[\"손흥민\"]"
      ],
      "execution_count": 15,
      "outputs": [
        {
          "output_type": "stream",
          "text": [
            "딕셔너리: 사용 방법\n",
            "{'김연아': '피겨스케이팅', '류현진': '야구', '손흥민': '축구', '귀도': '파이썬'}\n"
          ],
          "name": "stdout"
        },
        {
          "output_type": "execute_result",
          "data": {
            "text/plain": [
              "'축구'"
            ]
          },
          "metadata": {
            "tags": []
          },
          "execution_count": 15
        }
      ]
    },
    {
      "cell_type": "code",
      "metadata": {
        "id": "MoCqfx29SeOg",
        "colab_type": "code",
        "colab": {
          "base_uri": "https://localhost:8080/",
          "height": 32
        },
        "outputId": "f7902207-2535-496e-e187-1820d7953e2a"
      },
      "source": [
        "#\n",
        "# 딕셔너리에서 Key 사용해 Value 얻기\n",
        "#\n",
        "grade = {\"pey\": 10, \"julliet\": 99}\n",
        "grade[\"pey\"], grade[\"julliet\"] \n",
        "# 자연스럽게 소괄호 튜플로 묶임."
      ],
      "execution_count": 17,
      "outputs": [
        {
          "output_type": "execute_result",
          "data": {
            "text/plain": [
              "(10, 99)"
            ]
          },
          "metadata": {
            "tags": []
          },
          "execution_count": 17
        }
      ]
    },
    {
      "cell_type": "code",
      "metadata": {
        "id": "NvP5-rCBS1NS",
        "colab_type": "code",
        "colab": {
          "base_uri": "https://localhost:8080/",
          "height": 191
        },
        "outputId": "72285453-63fb-4fad-d300-70d9bfa2584a"
      },
      "source": [
        "#\n",
        "a = {1: \"a\", 2: \"b\"}\n",
        "a[1]  # 1은 key\n",
        "#\n",
        "a = {\"a\": 1, \"b\": 2}\n",
        "a[\"b\"]\n",
        "a[b] # TypeError"
      ],
      "execution_count": 19,
      "outputs": [
        {
          "output_type": "error",
          "ename": "NameError",
          "evalue": "ignored",
          "traceback": [
            "\u001b[0;31m---------------------------------------------------------------------------\u001b[0m",
            "\u001b[0;31mNameError\u001b[0m                                 Traceback (most recent call last)",
            "\u001b[0;32m<ipython-input-19-c82fc42905c4>\u001b[0m in \u001b[0;36m<module>\u001b[0;34m()\u001b[0m\n\u001b[1;32m      4\u001b[0m \u001b[0ma\u001b[0m \u001b[0;34m=\u001b[0m \u001b[0;34m{\u001b[0m\u001b[0;34m\"a\"\u001b[0m\u001b[0;34m:\u001b[0m \u001b[0;36m1\u001b[0m\u001b[0;34m,\u001b[0m \u001b[0;34m\"b\"\u001b[0m\u001b[0;34m:\u001b[0m \u001b[0;36m2\u001b[0m\u001b[0;34m}\u001b[0m\u001b[0;34m\u001b[0m\u001b[0;34m\u001b[0m\u001b[0m\n\u001b[1;32m      5\u001b[0m \u001b[0ma\u001b[0m\u001b[0;34m[\u001b[0m\u001b[0;34m\"b\"\u001b[0m\u001b[0;34m]\u001b[0m\u001b[0;34m\u001b[0m\u001b[0;34m\u001b[0m\u001b[0m\n\u001b[0;32m----> 6\u001b[0;31m \u001b[0ma\u001b[0m\u001b[0;34m[\u001b[0m\u001b[0mb\u001b[0m\u001b[0;34m]\u001b[0m \u001b[0;31m# TypeError\u001b[0m\u001b[0;34m\u001b[0m\u001b[0;34m\u001b[0m\u001b[0m\n\u001b[0m",
            "\u001b[0;31mNameError\u001b[0m: name 'b' is not defined"
          ]
        }
      ]
    },
    {
      "cell_type": "code",
      "metadata": {
        "id": "e0pDoKrkTRIX",
        "colab_type": "code",
        "colab": {
          "base_uri": "https://localhost:8080/",
          "height": 32
        },
        "outputId": "3efbb06b-d262-44bb-85d9-bdf8a3fb3782"
      },
      "source": [
        "#\n",
        "dic = {\"name\": \"pey\", \"phone\": \"0109993323\", \"birth\": \"1118\"}\n",
        "dic[\"birth\"], dic[\"phone\"]\n",
        "#\n",
        "# 딕셔너리 만들 때 주의할 사항\n",
        "# 딕셔너리에서 Key는 고유한 값이므로 중복되는 Key 값을 설정해 놓으면\n",
        "# 하나를 제외한 나머지 것들이 모두 무시된다\n",
        "#\n",
        "a = {1: \"a\", 1: \"b\"}\n",
        "a[1] #마지막에 할당 된 값이 나옴 / 오류 나오지 않았음"
      ],
      "execution_count": 22,
      "outputs": [
        {
          "output_type": "execute_result",
          "data": {
            "text/plain": [
              "'b'"
            ]
          },
          "metadata": {
            "tags": []
          },
          "execution_count": 22
        }
      ]
    },
    {
      "cell_type": "markdown",
      "metadata": {
        "id": "XnY6vbBcUbb8",
        "colab_type": "text"
      },
      "source": [
        "###텍스트 내장 함수들"
      ]
    },
    {
      "cell_type": "code",
      "metadata": {
        "id": "P6kPKxTBTsc-",
        "colab_type": "code",
        "colab": {
          "base_uri": "https://localhost:8080/",
          "height": 49
        },
        "outputId": "62675402-95eb-4cbd-a7bf-cf26c76a3f52"
      },
      "source": [
        "#\n",
        "print(\"딕셔너리: 관련 내장 함수들\")\n",
        "#\n",
        "# Key 리스트 만들기(keys)\n",
        "#\n",
        "a = {\"name\": \"pey\", \"phone\": \"0119993323\", \"birth\": \"1118\"}\n",
        "a.keys()\n",
        "list(a.keys())\n",
        "#################################################\n",
        "# 기본적인 반복(iterate) 구문(예: for문)을 실행\n",
        "# #################################################\n",
        "for k in a.keys():\n",
        "    print(k)\n"
      ],
      "execution_count": 23,
      "outputs": [
        {
          "output_type": "stream",
          "text": [
            "딕셔너리: 관련 내장 함수들\n"
          ],
          "name": "stdout"
        },
        {
          "output_type": "execute_result",
          "data": {
            "text/plain": [
              "['name', 'phone', 'birth']"
            ]
          },
          "metadata": {
            "tags": []
          },
          "execution_count": 23
        }
      ]
    },
    {
      "cell_type": "code",
      "metadata": {
        "id": "I8BTR97WUfoy",
        "colab_type": "code",
        "colab": {
          "base_uri": "https://localhost:8080/",
          "height": 32
        },
        "outputId": "a43fbe0e-d19c-4ead-a764-47fcd6b07d44"
      },
      "source": [
        "#\n",
        "# Value 리스트 만들기(values)\n",
        "#\n",
        "list(a.values()) #값이 세개로 나옴"
      ],
      "execution_count": 27,
      "outputs": [
        {
          "output_type": "execute_result",
          "data": {
            "text/plain": [
              "['pey', '0119993323', '1118']"
            ]
          },
          "metadata": {
            "tags": []
          },
          "execution_count": 27
        }
      ]
    },
    {
      "cell_type": "code",
      "metadata": {
        "id": "oJiUSwn8wz_j",
        "colab_type": "code",
        "colab": {
          "base_uri": "https://localhost:8080/",
          "height": 32
        },
        "outputId": "ec1d751e-0848-4dad-a33b-006c8c5840c3"
      },
      "source": [
        "#\n",
        "# Key, Value 쌍 얻기(items)\n",
        "#\n",
        "a.items()  # Key와 Value의 쌍을 튜플로 묶은 값을 dict_items 객체로 돌려준다."
      ],
      "execution_count": 28,
      "outputs": [
        {
          "output_type": "execute_result",
          "data": {
            "text/plain": [
              "dict_items([('name', 'pey'), ('phone', '0119993323'), ('birth', '1118')])"
            ]
          },
          "metadata": {
            "tags": []
          },
          "execution_count": 28
        }
      ]
    },
    {
      "cell_type": "code",
      "metadata": {
        "id": "scFO7b9nxSZq",
        "colab_type": "code",
        "colab": {
          "base_uri": "https://localhost:8080/",
          "height": 32
        },
        "outputId": "9b214a6d-b251-4830-cfbe-f1b65b243fe5"
      },
      "source": [
        "#\n",
        "#\n",
        "# Key: Value 쌍 모두 지우기(clear)\n",
        "#\n",
        "a.clear()\n",
        "a"
      ],
      "execution_count": 29,
      "outputs": [
        {
          "output_type": "execute_result",
          "data": {
            "text/plain": [
              "{}"
            ]
          },
          "metadata": {
            "tags": []
          },
          "execution_count": 29
        }
      ]
    },
    {
      "cell_type": "code",
      "metadata": {
        "id": "F4bdf9xqxf7t",
        "colab_type": "code",
        "colab": {
          "base_uri": "https://localhost:8080/",
          "height": 32
        },
        "outputId": "151d769b-1d62-4ace-aee6-08432781e28c"
      },
      "source": [
        "#\n",
        "# Key로 Value얻기(get)\n",
        "#\n",
        "a = {\"name\": \"pey\", \"phone\": \"0119993323\", \"birth\": \"1118\"}\n",
        "a.get(\"name\")  # a['name']\n",
        "a.get(\"phone\")  # a['phone']"
      ],
      "execution_count": 30,
      "outputs": [
        {
          "output_type": "execute_result",
          "data": {
            "text/plain": [
              "'0119993323'"
            ]
          },
          "metadata": {
            "tags": []
          },
          "execution_count": 30
        }
      ]
    },
    {
      "cell_type": "code",
      "metadata": {
        "id": "DvuTeVx0xydR",
        "colab_type": "code",
        "colab": {
          "base_uri": "https://localhost:8080/",
          "height": 158
        },
        "outputId": "4d5cd070-826b-4b1b-a2e3-3bc5ee48643e"
      },
      "source": [
        "print(a[\"nokey\"])  # KeyError"
      ],
      "execution_count": 32,
      "outputs": [
        {
          "output_type": "error",
          "ename": "KeyError",
          "evalue": "ignored",
          "traceback": [
            "\u001b[0;31m---------------------------------------------------------------------------\u001b[0m",
            "\u001b[0;31mKeyError\u001b[0m                                  Traceback (most recent call last)",
            "\u001b[0;32m<ipython-input-32-cad8ab3085f5>\u001b[0m in \u001b[0;36m<module>\u001b[0;34m()\u001b[0m\n\u001b[0;32m----> 1\u001b[0;31m \u001b[0mprint\u001b[0m\u001b[0;34m(\u001b[0m\u001b[0ma\u001b[0m\u001b[0;34m[\u001b[0m\u001b[0;34m\"nokey\"\u001b[0m\u001b[0;34m]\u001b[0m\u001b[0;34m)\u001b[0m  \u001b[0;31m# KeyError\u001b[0m\u001b[0;34m\u001b[0m\u001b[0;34m\u001b[0m\u001b[0m\n\u001b[0m",
            "\u001b[0;31mKeyError\u001b[0m: 'nokey'"
          ]
        }
      ]
    },
    {
      "cell_type": "code",
      "metadata": {
        "id": "fWCH8gK1yLD8",
        "colab_type": "code",
        "colab": {
          "base_uri": "https://localhost:8080/",
          "height": 32
        },
        "outputId": "e20ede3b-bdc1-4077-ae40-e33d9d0ffc05"
      },
      "source": [
        "a"
      ],
      "execution_count": 33,
      "outputs": [
        {
          "output_type": "execute_result",
          "data": {
            "text/plain": [
              "{'birth': '1118', 'name': 'pey', 'phone': '0119993323'}"
            ]
          },
          "metadata": {
            "tags": []
          },
          "execution_count": 33
        }
      ]
    },
    {
      "cell_type": "code",
      "metadata": {
        "id": "7Bc6RfyVx6x-",
        "colab_type": "code",
        "colab": {
          "base_uri": "https://localhost:8080/",
          "height": 32
        },
        "outputId": "9dc80757-72b0-4124-a216-1b3080f6d3f0"
      },
      "source": [
        "#\n",
        "# get(x, '디폴트 값')\n",
        "#\n",
        "# 딕셔너리 안에 찾으려는 Key 값이 없을 경우\n",
        "# 미리 정해 둔 디폴트 값을 대신 가져오게 설정.\n",
        "#\n",
        "a.get(\"foo\", \"bar\")\n",
        "a.get(\"name\", \"bar\")"
      ],
      "execution_count": 36,
      "outputs": [
        {
          "output_type": "execute_result",
          "data": {
            "text/plain": [
              "'pey'"
            ]
          },
          "metadata": {
            "tags": []
          },
          "execution_count": 36
        }
      ]
    },
    {
      "cell_type": "code",
      "metadata": {
        "id": "nMJU_g2RyJuL",
        "colab_type": "code",
        "colab": {
          "base_uri": "https://localhost:8080/",
          "height": 32
        },
        "outputId": "a3e281ea-48ec-46d7-915c-e2a516b71e6c"
      },
      "source": [
        "#\n",
        "# 해당 Key가 딕셔너리 안에 있는지 조사하기(in)\n",
        "#\n",
        "a = {\"name\": \"pey\", \"phone\": \"0119993323\", \"birth\": \"1118\"}\n",
        "\"name\" in a\n",
        "\"foo\" in a\n"
      ],
      "execution_count": 38,
      "outputs": [
        {
          "output_type": "execute_result",
          "data": {
            "text/plain": [
              "False"
            ]
          },
          "metadata": {
            "tags": []
          },
          "execution_count": 38
        }
      ]
    },
    {
      "cell_type": "markdown",
      "metadata": {
        "id": "9GZw3Eh_PHK_",
        "colab_type": "text"
      },
      "source": [
        "# 새 섹션"
      ]
    },
    {
      "cell_type": "markdown",
      "metadata": {
        "id": "8EH6J8ZKyzPh",
        "colab_type": "text"
      },
      "source": [
        "##set"
      ]
    },
    {
      "cell_type": "code",
      "metadata": {
        "id": "00u9914oMxAB",
        "colab_type": "code",
        "colab": {
          "base_uri": "https://localhost:8080/",
          "height": 49
        },
        "outputId": "b3cda7ce-7266-413a-956b-557743038069"
      },
      "source": [
        "# ch2_08_set.py\n",
        "\n",
        "print(\"집합: 집합(Set)이란?\")\n",
        "# 집합에 관련된 것을 쉽게 처리하기 위해 만든 자료형\n",
        "# 중복된 값을 허용하지 않는다. ***중요!!!!***\n",
        "#\n",
        "# set 키워드를 사용해서 집합자료형을 만든다.\n",
        "#\n",
        "s1 = set([1, 2, 3])\n",
        "s1     #  {.....} 중괄호로 둘러 싸여있음  파이썬에서는 중괄호를 이용해 담는 데이터 구조가  두 가지가 있는데 t = 딕셔너리  , t값만 ,를 이용해 담는 구조는 중복을 허용않는 셋이다\n",
        "s1n = set([1, 2, 3, 2])\n",
        "s1n\n",
        "# s1n\n",
        "s2 = set(\"Hello\") # 헬로는 문자열 데이터  , 문자 에이치, 문자 이....등ㄷ....(중복 허용 하지 않기에)\n",
        "s2"
      ],
      "execution_count": 41,
      "outputs": [
        {
          "output_type": "stream",
          "text": [
            "집합: 집합(Set)이란?\n"
          ],
          "name": "stdout"
        },
        {
          "output_type": "execute_result",
          "data": {
            "text/plain": [
              "{'H', 'e', 'l', 'o'}"
            ]
          },
          "metadata": {
            "tags": []
          },
          "execution_count": 41
        }
      ]
    },
    {
      "cell_type": "markdown",
      "metadata": {
        "id": "gGJUVTn40AUH",
        "colab_type": "text"
      },
      "source": [
        "###집합 자료형의 특징"
      ]
    },
    {
      "cell_type": "code",
      "metadata": {
        "id": "lEh-Sgf0y7NJ",
        "colab_type": "code",
        "colab": {
          "base_uri": "https://localhost:8080/",
          "height": 65
        },
        "outputId": "eb7716c3-a586-45a9-ba26-f2b1ea309635"
      },
      "source": [
        "#\n",
        "# 집합 자료형의 특징\n",
        "# 1. 중복을 허용하지 않는다.\n",
        "# 2. 순서가 없다(Unordered).\n",
        "# *** set 자료형은 순서가 없기(unordered) 때문에 인덱싱으로 값을 얻을 수 없다.\n",
        "#\n",
        "s1 = set([1,2,3])\n",
        "print (s1)\n",
        "# s1[0] TypeError:'set' object does not support indexing\n",
        "l1=list(s1)\n",
        "print(l1)\n",
        "l1[0]"
      ],
      "execution_count": 47,
      "outputs": [
        {
          "output_type": "stream",
          "text": [
            "{1, 2, 3}\n",
            "[1, 2, 3]\n"
          ],
          "name": "stdout"
        },
        {
          "output_type": "execute_result",
          "data": {
            "text/plain": [
              "1"
            ]
          },
          "metadata": {
            "tags": []
          },
          "execution_count": 47
        }
      ]
    },
    {
      "cell_type": "code",
      "metadata": {
        "id": "XUxBeblZ0LoY",
        "colab_type": "code",
        "colab": {
          "base_uri": "https://localhost:8080/",
          "height": 49
        },
        "outputId": "ad6aad96-05ae-4167-aea2-571bb86420f0"
      },
      "source": [
        "#\n",
        "t1=tuple(s1)\n",
        "print(t1)\n",
        "t1[0]"
      ],
      "execution_count": 48,
      "outputs": [
        {
          "output_type": "stream",
          "text": [
            "(1, 2, 3)\n"
          ],
          "name": "stdout"
        },
        {
          "output_type": "execute_result",
          "data": {
            "text/plain": [
              "1"
            ]
          },
          "metadata": {
            "tags": []
          },
          "execution_count": 48
        }
      ]
    },
    {
      "cell_type": "code",
      "metadata": {
        "id": "-IuIOa4n0ySO",
        "colab_type": "code",
        "colab": {
          "base_uri": "https://localhost:8080/",
          "height": 32
        },
        "outputId": "62533aef-fb72-4879-e4bf-b91e6aaec244"
      },
      "source": [
        "#\n",
        "# 교집합, 합집합, 차집합 구하기\n",
        "#\n",
        "s1 = set([1, 2, 3, 4, 5, 6])\n",
        "s2 = set([4, 5, 6, 7, 8, 9])\n",
        "# \n",
        "# 1. 교집합\n",
        "#\n",
        "# s1 & s2.   #공통된 요소들을 뽑음\n",
        "s1.intersection(s2)\n",
        "# \n",
        "# 2. 합집합\n",
        "#\n",
        "s1 | s2 # | = or\n",
        "# s1.union(s2)\n",
        "# \n",
        "# 3. 차집합\n",
        "#\n",
        "s1 - s2\n",
        "s2 - s1\n",
        "# s1.difference(s2)\n",
        "s2.difference(s1)\n"
      ],
      "execution_count": 57,
      "outputs": [
        {
          "output_type": "execute_result",
          "data": {
            "text/plain": [
              "{7, 8, 9}"
            ]
          },
          "metadata": {
            "tags": []
          },
          "execution_count": 57
        }
      ]
    },
    {
      "cell_type": "markdown",
      "metadata": {
        "id": "wfCS6aU81vE1",
        "colab_type": "text"
      },
      "source": [
        "### 집합 (set) 관련 내장 함수들"
      ]
    },
    {
      "cell_type": "code",
      "metadata": {
        "id": "30X958fs1E4Y",
        "colab_type": "code",
        "colab": {
          "base_uri": "https://localhost:8080/",
          "height": 49
        },
        "outputId": "e61c53c6-5b19-4646-9d2c-3c5eb486be9a"
      },
      "source": [
        "#\n",
        "print(\"집합 (set): 관련 내장 함수들\")\n",
        "#\n",
        "# 값 1개 추가하기(add)\n",
        "#\n",
        "s1 = set([1, 2, 3])\n",
        "s1.add(4)\n",
        "s1"
      ],
      "execution_count": 58,
      "outputs": [
        {
          "output_type": "stream",
          "text": [
            "집합 (set): 관련 내장 함수들\n"
          ],
          "name": "stdout"
        },
        {
          "output_type": "execute_result",
          "data": {
            "text/plain": [
              "{1, 2, 3, 4}"
            ]
          },
          "metadata": {
            "tags": []
          },
          "execution_count": 58
        }
      ]
    },
    {
      "cell_type": "code",
      "metadata": {
        "id": "de1VQVdF11BO",
        "colab_type": "code",
        "colab": {
          "base_uri": "https://localhost:8080/",
          "height": 32
        },
        "outputId": "e1800454-38f7-4d40-ff07-255e6759faf2"
      },
      "source": [
        "#\n",
        "# 값 여러 개 추가하기(update)\n",
        "#\n",
        "s1 = set([1, 2, 3])\n",
        "s1.update([4,5,6])\n",
        "s1\n",
        "s1.add(5)\n",
        "s1 # 셋은 중복된 요소를 허용하지 않으니"
      ],
      "execution_count": 61,
      "outputs": [
        {
          "output_type": "execute_result",
          "data": {
            "text/plain": [
              "{1, 2, 3, 4, 5, 6}"
            ]
          },
          "metadata": {
            "tags": []
          },
          "execution_count": 61
        }
      ]
    },
    {
      "cell_type": "code",
      "metadata": {
        "id": "FoAwO1cD17kh",
        "colab_type": "code",
        "colab": {
          "base_uri": "https://localhost:8080/",
          "height": 32
        },
        "outputId": "4ac776e1-b3aa-4ea7-f59a-8b0a368e0d36"
      },
      "source": [
        "#\n",
        "# 특정 값 제거하기(remove)\n",
        "#\n",
        "s1 = set([1, 2, 3])\n",
        "s1.remove(2)\n",
        "s1"
      ],
      "execution_count": 62,
      "outputs": [
        {
          "output_type": "execute_result",
          "data": {
            "text/plain": [
              "{1, 3}"
            ]
          },
          "metadata": {
            "tags": []
          },
          "execution_count": 62
        }
      ]
    },
    {
      "cell_type": "code",
      "metadata": {
        "id": "qk4Su9ZO2HTH",
        "colab_type": "code",
        "colab": {
          "base_uri": "https://localhost:8080/",
          "height": 224
        },
        "outputId": "78553554-f11c-46cf-96a5-b90b076e4968"
      },
      "source": [
        "#################################################셋은 가변형\n",
        "# frozenset()  # immutable set\n",
        "#################################################\n",
        "small_primes = frozenset([2, 3, 5, 7])\n",
        "bigger_primes = frozenset([5, 7, 11])\n",
        "small_primes.add(11)  # we cannot add to a frozenset -> AttributeError\n",
        "\n",
        "# small_primes.remove(2)  # neither we can remove -> AttributeError\n",
        "\n",
        "# small_primes & bigger_primes  # intersect, union, etc. allowed\n",
        "# frozenset({5, 7})\n"
      ],
      "execution_count": 64,
      "outputs": [
        {
          "output_type": "error",
          "ename": "AttributeError",
          "evalue": "ignored",
          "traceback": [
            "\u001b[0;31m---------------------------------------------------------------------------\u001b[0m",
            "\u001b[0;31mAttributeError\u001b[0m                            Traceback (most recent call last)",
            "\u001b[0;32m<ipython-input-64-c879d1a110b1>\u001b[0m in \u001b[0;36m<module>\u001b[0;34m()\u001b[0m\n\u001b[1;32m      1\u001b[0m \u001b[0msmall_primes\u001b[0m \u001b[0;34m=\u001b[0m \u001b[0mfrozenset\u001b[0m\u001b[0;34m(\u001b[0m\u001b[0;34m[\u001b[0m\u001b[0;36m2\u001b[0m\u001b[0;34m,\u001b[0m \u001b[0;36m3\u001b[0m\u001b[0;34m,\u001b[0m \u001b[0;36m5\u001b[0m\u001b[0;34m,\u001b[0m \u001b[0;36m7\u001b[0m\u001b[0;34m]\u001b[0m\u001b[0;34m)\u001b[0m\u001b[0;34m\u001b[0m\u001b[0;34m\u001b[0m\u001b[0m\n\u001b[1;32m      2\u001b[0m \u001b[0mbigger_primes\u001b[0m \u001b[0;34m=\u001b[0m \u001b[0mfrozenset\u001b[0m\u001b[0;34m(\u001b[0m\u001b[0;34m[\u001b[0m\u001b[0;36m5\u001b[0m\u001b[0;34m,\u001b[0m \u001b[0;36m7\u001b[0m\u001b[0;34m,\u001b[0m \u001b[0;36m11\u001b[0m\u001b[0;34m]\u001b[0m\u001b[0;34m)\u001b[0m\u001b[0;34m\u001b[0m\u001b[0;34m\u001b[0m\u001b[0m\n\u001b[0;32m----> 3\u001b[0;31m \u001b[0msmall_primes\u001b[0m\u001b[0;34m.\u001b[0m\u001b[0madd\u001b[0m\u001b[0;34m(\u001b[0m\u001b[0;36m11\u001b[0m\u001b[0;34m)\u001b[0m  \u001b[0;31m# we cannot add to a frozenset -> AttributeError\u001b[0m\u001b[0;34m\u001b[0m\u001b[0;34m\u001b[0m\u001b[0m\n\u001b[0m\u001b[1;32m      4\u001b[0m \u001b[0;34m\u001b[0m\u001b[0m\n\u001b[1;32m      5\u001b[0m \u001b[0msmall_primes\u001b[0m\u001b[0;34m.\u001b[0m\u001b[0mremove\u001b[0m\u001b[0;34m(\u001b[0m\u001b[0;36m2\u001b[0m\u001b[0;34m)\u001b[0m  \u001b[0;31m# neither we can remove -> AttributeError\u001b[0m\u001b[0;34m\u001b[0m\u001b[0;34m\u001b[0m\u001b[0m\n",
            "\u001b[0;31mAttributeError\u001b[0m: 'frozenset' object has no attribute 'add'"
          ]
        }
      ]
    },
    {
      "cell_type": "markdown",
      "metadata": {
        "id": "wZDsHhUx28WR",
        "colab_type": "text"
      },
      "source": [
        "## bool (불) 트루 폴스 개념 만든사람"
      ]
    },
    {
      "cell_type": "code",
      "metadata": {
        "id": "LDqcX6-KMxAL",
        "colab_type": "code",
        "colab": {
          "base_uri": "https://localhost:8080/",
          "height": 49
        },
        "outputId": "9477646b-4f88-496a-87e0-e68ea072b600"
      },
      "source": [
        "# ch2_09_bool.py\n",
        "\n",
        "print(\"불: 불 자료형이란?\")\n",
        "# 불(bool) 자료형이란 참(True)과 거짓(False)을 나타내는 자료형이다.\n",
        "# 불 자료형은 다음 2가지 값만을 가질 수 있다.\n",
        "# True - 참\n",
        "# False - 거짓\n",
        "# True나 False는 파이썬의 예약어로 true, false와 같이 사용하지 말고\n",
        "# 첫 문자를 항상 대문자로 사용해야 한다.\n",
        "#\n",
        "a = True\n",
        "b = False\n",
        "type(a), type(b) , a, b"
      ],
      "execution_count": 69,
      "outputs": [
        {
          "output_type": "stream",
          "text": [
            "불: 불 자료형이란?\n"
          ],
          "name": "stdout"
        },
        {
          "output_type": "execute_result",
          "data": {
            "text/plain": [
              "(bool, bool, True, False)"
            ]
          },
          "metadata": {
            "tags": []
          },
          "execution_count": 69
        }
      ]
    },
    {
      "cell_type": "code",
      "metadata": {
        "id": "L4N_IPkG3RNb",
        "colab_type": "code",
        "colab": {
          "base_uri": "https://localhost:8080/",
          "height": 32
        },
        "outputId": "f98cb6da-02c7-476a-dcb3-016d9a276c4c"
      },
      "source": [
        "#\n",
        "# 참과 거짓\n",
        "#\n",
        "1 == 1\n",
        "2 > 1\n",
        "2 < 1\n",
        "True + 1 # 트루에 기본적으로 할당 돼 있는 값은 1 , 폴스에는 0 할당\n",
        "False + 1 #print문을 쓰지 않는다면 셀에서 맨 마지막 코드를 출력 "
      ],
      "execution_count": 75,
      "outputs": [
        {
          "output_type": "execute_result",
          "data": {
            "text/plain": [
              "1"
            ]
          },
          "metadata": {
            "tags": []
          },
          "execution_count": 75
        }
      ]
    },
    {
      "cell_type": "markdown",
      "metadata": {
        "id": "hWdrr9SY4UXu",
        "colab_type": "text"
      },
      "source": [
        "###자료형의 참과 거짓\n",
        "-string(문자열)\n",
        "-list\n",
        "-tuple\n",
        "-dictionary\n",
        "-set\n",
        "-bool"
      ]
    },
    {
      "cell_type": "code",
      "metadata": {
        "id": "dcSaKK6k32xy",
        "colab_type": "code",
        "colab": {
          "base_uri": "https://localhost:8080/",
          "height": 32
        },
        "outputId": "9f387bf3-839a-4020-9442-87103e82d750"
      },
      "source": [
        "#\n",
        "# 자료형의 참과 거짓\n",
        "#\n",
        "bool(\"python\")  #문자열 안에 문자 하나가 들어있으면 트루\n",
        "bool(\"\") #값이 아무것도 없으면 폴스 \n",
        "bool([1, 2, 3]) \n",
        "bool([2, 3])\n",
        "bool([])\n",
        "bool(())\n",
        "bool({})\n",
        "bool(1)\n",
        "bool(0) # 폴스 값이 기본적으로 할당 돼 잇으니깐\n",
        "bool(None)"
      ],
      "execution_count": 84,
      "outputs": [
        {
          "output_type": "execute_result",
          "data": {
            "text/plain": [
              "False"
            ]
          },
          "metadata": {
            "tags": []
          },
          "execution_count": 84
        }
      ]
    },
    {
      "cell_type": "markdown",
      "metadata": {
        "id": "kA2SnEdK5h35",
        "colab_type": "text"
      },
      "source": [
        "### Quiz"
      ]
    },
    {
      "cell_type": "code",
      "metadata": {
        "id": "DZp1ZSC75STo",
        "colab_type": "code",
        "colab": {
          "base_uri": "https://localhost:8080/",
          "height": 224
        },
        "outputId": "4be3a28d-01ae-4a15-e048-8a8fa91ab810"
      },
      "source": [
        "bool (0), bool([0]), bool ((0)), bool((0,)) #(0)== 0\n",
        "false\n",
        "true  #(리스트)에 값을 가졌기에\n",
        "false #(셋) 콤마가 없는 괄호 = 없는 것\n",
        "true  #(셋) 콤마가 있는 괄호 = 있는 것"
      ],
      "execution_count": 85,
      "outputs": [
        {
          "output_type": "error",
          "ename": "NameError",
          "evalue": "ignored",
          "traceback": [
            "\u001b[0;31m---------------------------------------------------------------------------\u001b[0m",
            "\u001b[0;31mNameError\u001b[0m                                 Traceback (most recent call last)",
            "\u001b[0;32m<ipython-input-85-6b031047e49a>\u001b[0m in \u001b[0;36m<module>\u001b[0;34m()\u001b[0m\n\u001b[1;32m      1\u001b[0m \u001b[0mbool\u001b[0m \u001b[0;34m(\u001b[0m\u001b[0;36m0\u001b[0m\u001b[0;34m)\u001b[0m\u001b[0;34m,\u001b[0m \u001b[0mbool\u001b[0m\u001b[0;34m(\u001b[0m\u001b[0;34m[\u001b[0m\u001b[0;36m0\u001b[0m\u001b[0;34m]\u001b[0m\u001b[0;34m)\u001b[0m\u001b[0;34m,\u001b[0m \u001b[0mbool\u001b[0m \u001b[0;34m(\u001b[0m\u001b[0;34m(\u001b[0m\u001b[0;36m0\u001b[0m\u001b[0;34m)\u001b[0m\u001b[0;34m)\u001b[0m\u001b[0;34m,\u001b[0m \u001b[0mbool\u001b[0m\u001b[0;34m(\u001b[0m\u001b[0;34m(\u001b[0m\u001b[0;36m0\u001b[0m\u001b[0;34m,\u001b[0m\u001b[0;34m)\u001b[0m\u001b[0;34m)\u001b[0m \u001b[0;31m#(0)== 0\u001b[0m\u001b[0;34m\u001b[0m\u001b[0;34m\u001b[0m\u001b[0m\n\u001b[0;32m----> 2\u001b[0;31m \u001b[0mfalse\u001b[0m\u001b[0;34m\u001b[0m\u001b[0;34m\u001b[0m\u001b[0m\n\u001b[0m\u001b[1;32m      3\u001b[0m \u001b[0mtrue\u001b[0m  \u001b[0;31m#(리스트)에 값을 가졌기에\u001b[0m\u001b[0;34m\u001b[0m\u001b[0;34m\u001b[0m\u001b[0m\n\u001b[1;32m      4\u001b[0m \u001b[0mfalse\u001b[0m \u001b[0;31m#(셋) 콤마가 없는 괄호 = 없는 것\u001b[0m\u001b[0;34m\u001b[0m\u001b[0;34m\u001b[0m\u001b[0m\n\u001b[1;32m      5\u001b[0m \u001b[0mtrue\u001b[0m  \u001b[0;31m#(셋) 콤마가 있는 괄호 = 잇는 것\u001b[0m\u001b[0;34m\u001b[0m\u001b[0;34m\u001b[0m\u001b[0m\n",
            "\u001b[0;31mNameError\u001b[0m: name 'false' is not defined"
          ]
        }
      ]
    },
    {
      "cell_type": "code",
      "metadata": {
        "id": "1hRf6dG94tda",
        "colab_type": "code",
        "colab": {
          "base_uri": "https://localhost:8080/",
          "height": 82
        },
        "outputId": "574e78de-db40-4005-b45b-3735618e028d"
      },
      "source": [
        "#\n",
        "# 불 값을 이용한 코드\n",
        "#\n",
        "a = [1, 2, 3, 4] #리스트\n",
        "#\n",
        "while a: #와일 리스트에 하나라도 있으면 트루 없으면 폴스\n",
        "    print(a.pop())"
      ],
      "execution_count": 86,
      "outputs": [
        {
          "output_type": "stream",
          "text": [
            "4\n",
            "3\n",
            "2\n",
            "1\n"
          ],
          "name": "stdout"
        }
      ]
    },
    {
      "cell_type": "code",
      "metadata": {
        "id": "bHoza3yq6k4a",
        "colab_type": "code",
        "colab": {
          "base_uri": "https://localhost:8080/",
          "height": 32
        },
        "outputId": "7f9b4df1-5866-4600-f821-17051a24ccf3"
      },
      "source": [
        "#\n",
        "if []:\n",
        "    print(\"참\")\n",
        "else:\n",
        "    print(\"거짓\")\n",
        "    "
      ],
      "execution_count": 87,
      "outputs": [
        {
          "output_type": "stream",
          "text": [
            "거짓\n"
          ],
          "name": "stdout"
        }
      ]
    },
    {
      "cell_type": "code",
      "metadata": {
        "id": "FcRvbVrU7Cb6",
        "colab_type": "code",
        "colab": {
          "base_uri": "https://localhost:8080/",
          "height": 32
        },
        "outputId": "d765a1ee-9fc3-4938-bcbf-9f42fdf6f425"
      },
      "source": [
        "############################\n",
        "#  Representation error\n",
        "## double precision representation of floating-point numbers\n",
        "############################\n",
        "1-0.9\n",
        "# 0.09999999999999998\n",
        "1-0.9==.1 #파이썬의 유효자리 구조때문에 폴스\n",
        "# False"
      ],
      "execution_count": 89,
      "outputs": [
        {
          "output_type": "execute_result",
          "data": {
            "text/plain": [
              "False"
            ]
          },
          "metadata": {
            "tags": []
          },
          "execution_count": 89
        }
      ]
    },
    {
      "cell_type": "code",
      "metadata": {
        "id": "wrSG38jw7QsO",
        "colab_type": "code",
        "colab": {}
      },
      "source": [
        "#####\n",
        "import decimal\n",
        "x=decimal.Decimal(3.14)\n",
        "y=decimal.Decimal(2.74)\n",
        "x,y\n",
        "\n",
        "x*y\n",
        "# Decimal('8.603600000000001010036498883')\n",
        "decimal.getcontext().prec=4\n",
        "x*y\n",
        "# Decimal('8.604')"
      ],
      "execution_count": 0,
      "outputs": []
    },
    {
      "cell_type": "markdown",
      "metadata": {
        "id": "5mmB_z5P7fyb",
        "colab_type": "text"
      },
      "source": [
        "### 변수\n"
      ]
    },
    {
      "cell_type": "code",
      "metadata": {
        "id": "W1ry4cBYMxAZ",
        "colab_type": "code",
        "colab": {
          "base_uri": "https://localhost:8080/",
          "height": 65
        },
        "outputId": "a27249a2-b7ee-4f4b-db07-aeb221525c5e"
      },
      "source": [
        "# ch2_10_variable.py\n",
        "\n",
        "print(\"변수: 변수란?\")\n",
        "#\n",
        "# 변수는 자료(값)을 저장하는 공간이다.\n",
        "#\n",
        "a = [1, 2, 3]\n",
        "print(a)\n",
        "id(a)  # a 변수가 가리키는 메모리의 주소"
      ],
      "execution_count": 100,
      "outputs": [
        {
          "output_type": "stream",
          "text": [
            "변수: 변수란?\n",
            "[1, 2, 3]\n"
          ],
          "name": "stdout"
        },
        {
          "output_type": "execute_result",
          "data": {
            "text/plain": [
              "140162437660744"
            ]
          },
          "metadata": {
            "tags": []
          },
          "execution_count": 100
        }
      ]
    },
    {
      "cell_type": "code",
      "metadata": {
        "id": "Rzw267wd7sw1",
        "colab_type": "code",
        "colab": {
          "base_uri": "https://localhost:8080/",
          "height": 32
        },
        "outputId": "cb5b4ff4-0a78-43d6-e119-2ae0cb7191c2"
      },
      "source": [
        "# list\n",
        "a = [1, 2, 3]\n",
        "id(a)\n",
        "b = a\n",
        "id(a), id(b)\n",
        "a is b\n",
        "a[1] = 4\n",
        "a\n",
        "a , b\n",
        "a is b\n",
        "b = [1, 2, 3]\n",
        "id(a), id(b)\n",
        "a is b"
      ],
      "execution_count": 99,
      "outputs": [
        {
          "output_type": "execute_result",
          "data": {
            "text/plain": [
              "False"
            ]
          },
          "metadata": {
            "tags": []
          },
          "execution_count": 99
        }
      ]
    },
    {
      "cell_type": "code",
      "metadata": {
        "id": "UQkuJvfD8Doi",
        "colab_type": "code",
        "colab": {
          "base_uri": "https://localhost:8080/",
          "height": 32
        },
        "outputId": "3e5b19db-237c-4fa5-9011-36123d9aa62d"
      },
      "source": [
        "#\n",
        "# b 변수를 생성할 때 a 변수의 값을 가져오면서\n",
        "# a와는 다른 주소를 가리키도록 만들수는 없을까?\n",
        "# 다음 2가지 방법이 있다.\n",
        "#\n",
        "# 1. [:] 이용\n",
        "#\n",
        "a = [1, 2, 3]\n",
        "b = a[:] # b = a 값은 같은데 주소가 달라졌음\n",
        "id(a), id(b)\n",
        "a[1] = 4\n",
        "a, b\n",
        "#\n",
        "# 2. copy 모듈 이용\n",
        "#\n",
        "a = [1, 2, 3]\n",
        "from copy import copy #이미 만들어진 내장 코드에서 가져온 코드를 이용해서 \n",
        "b = copy(a)\n",
        "\n",
        "b is a, a is b"
      ],
      "execution_count": 103,
      "outputs": [
        {
          "output_type": "execute_result",
          "data": {
            "text/plain": [
              "(False, False)"
            ]
          },
          "metadata": {
            "tags": []
          },
          "execution_count": 103
        }
      ]
    },
    {
      "cell_type": "code",
      "metadata": {
        "id": "tqMhlNPq9SIM",
        "colab_type": "code",
        "colab": {
          "base_uri": "https://localhost:8080/",
          "height": 65
        },
        "outputId": "88f1138b-394b-4778-bd67-021a514e3618"
      },
      "source": [
        "#\n",
        "# 변수를 만드는 여러 가지 방법\n",
        "#\n",
        "a, b = (\"python\", \"life\")\n",
        "print(a)\n",
        "print(b)\n",
        "a, b"
      ],
      "execution_count": 105,
      "outputs": [
        {
          "output_type": "stream",
          "text": [
            "python\n",
            "life\n"
          ],
          "name": "stdout"
        },
        {
          "output_type": "execute_result",
          "data": {
            "text/plain": [
              "('python', 'life')"
            ]
          },
          "metadata": {
            "tags": []
          },
          "execution_count": 105
        }
      ]
    },
    {
      "cell_type": "code",
      "metadata": {
        "id": "8Lt0I52z-DUm",
        "colab_type": "code",
        "colab": {
          "base_uri": "https://localhost:8080/",
          "height": 32
        },
        "outputId": "0bdd243c-3738-4093-82c0-e0a912a0d1c0"
      },
      "source": [
        "[a, b] = [\"python\", \"life\"] #리스트 구조\n",
        "a,b\n",
        "\n",
        "a = 3\n",
        "b = 5\n",
        "a, b = b, a #swap 바뀌게 됨\n",
        "a,b"
      ],
      "execution_count": 108,
      "outputs": [
        {
          "output_type": "execute_result",
          "data": {
            "text/plain": [
              "(5, 3)"
            ]
          },
          "metadata": {
            "tags": []
          },
          "execution_count": 108
        }
      ]
    },
    {
      "cell_type": "code",
      "metadata": {
        "id": "nKY_kpK4-Sni",
        "colab_type": "code",
        "colab": {}
      },
      "source": [
        ""
      ],
      "execution_count": 0,
      "outputs": []
    }
  ]
}